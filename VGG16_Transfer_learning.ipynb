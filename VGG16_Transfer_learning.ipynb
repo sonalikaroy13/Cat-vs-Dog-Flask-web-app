{
  "nbformat": 4,
  "nbformat_minor": 0,
  "metadata": {
    "kernelspec": {
      "display_name": "Python 3.8",
      "language": "python",
      "name": "python3"
    },
    "language_info": {
      "codemirror_mode": {
        "name": "ipython",
        "version": 3
      },
      "file_extension": ".py",
      "mimetype": "text/x-python",
      "name": "python",
      "nbconvert_exporter": "python",
      "pygments_lexer": "ipython3",
      "version": "3.8.4rc1"
    },
    "colab": {
      "name": "Copy of inception_net_tl.ipynb",
      "provenance": [],
      "collapsed_sections": []
    },
    "accelerator": "GPU"
  },
  "cells": [
    {
      "cell_type": "code",
      "metadata": {
        "id": "INvqp3R3siEY",
        "colab_type": "code",
        "colab": {}
      },
      "source": [
        "from tensorflow.keras.models import Sequential\n",
        "from tensorflow.keras.layers import Dense, Dropout, Flatten\n",
        "import os\n",
        "import random"
      ],
      "execution_count": 6,
      "outputs": []
    },
    {
      "cell_type": "code",
      "metadata": {
        "id": "o8hCXNE0syZ1",
        "colab_type": "code",
        "colab": {}
      },
      "source": [
        "from google.colab import drive\n",
        "drive.mount('/content/drive')"
      ],
      "execution_count": null,
      "outputs": []
    },
    {
      "cell_type": "code",
      "metadata": {
        "id": "3H4MKATbt_we",
        "colab_type": "code",
        "colab": {}
      },
      "source": [
        "import zipfile\n",
        "\n",
        "local_zip = 'drive/My Drive/datasets/cats-vs-dogs/train.zip'\n",
        "\n",
        "zip_ref = zipfile.ZipFile(local_zip, 'r')\n",
        "zip_ref.extractall('/tmp')\n",
        "zip_ref.close()"
      ],
      "execution_count": 3,
      "outputs": []
    },
    {
      "cell_type": "code",
      "metadata": {
        "id": "iOcb86ObYuZj",
        "colab_type": "code",
        "colab": {}
      },
      "source": [
        "def create_standard_directories():\n",
        "    root_dir = '/tmp/'\n",
        "    subdirs = ['train_set/', 'validation_set/']\n",
        "    for subdir in subdirs:\n",
        "        label_dirs = ['cats/', 'dogs/']\n",
        "        for label_dir in label_dirs:\n",
        "            newdir = root_dir + subdir + label_dir\n",
        "            os.makedirs(newdir, exist_ok=True)\n",
        "            \n",
        "create_standard_directories()"
      ],
      "execution_count": 7,
      "outputs": []
    },
    {
      "cell_type": "code",
      "metadata": {
        "id": "jOA_zKN-ufca",
        "colab_type": "code",
        "colab": {
          "base_uri": "https://localhost:8080/",
          "height": 34
        },
        "outputId": "c42be656-8284-469c-9e63-06bccddb3985"
      },
      "source": [
        "from shutil import move\n",
        "from tqdm import tqdm\n",
        "\n",
        "def move_images_into_directories():\n",
        "    train_dir = '/tmp/train/'\n",
        "    random.seed(1)\n",
        "    validation_ratio = 0.25\n",
        "    for img in tqdm(os.listdir(train_dir)):\n",
        "        img_path = train_dir + img\n",
        "        dst_dir = '/tmp/train_set/'\n",
        "        if random.random() < validation_ratio:\n",
        "            dst_dir = '/tmp/validation_set/'\n",
        "            \n",
        "        if img.startswith('cat'):\n",
        "            dst = dst_dir + 'cats/' + img\n",
        "            move(img_path, dst)\n",
        "        \n",
        "        elif img.startswith('dog'):\n",
        "            dst = dst_dir + 'dogs/' + img\n",
        "            move(img_path, dst)\n",
        "        \n",
        "        \n",
        "move_images_into_directories()"
      ],
      "execution_count": 8,
      "outputs": [
        {
          "output_type": "stream",
          "text": [
            "100%|██████████| 25000/25000 [00:00<00:00, 36686.21it/s]\n"
          ],
          "name": "stderr"
        }
      ]
    },
    {
      "cell_type": "code",
      "metadata": {
        "id": "gW7sfJFeugly",
        "colab_type": "code",
        "colab": {}
      },
      "source": [
        ""
      ],
      "execution_count": 8,
      "outputs": []
    },
    {
      "cell_type": "code",
      "metadata": {
        "id": "o37xbA2Xugi9",
        "colab_type": "code",
        "colab": {
          "base_uri": "https://localhost:8080/",
          "height": 862
        },
        "outputId": "4987922a-3ade-4385-ddde-32d8be897955"
      },
      "source": [
        "from tensorflow.keras.applications import VGG16\n",
        "\n",
        "vgg_base = VGG16(weights='imagenet', \n",
        "                 include_top=False, \n",
        "                 input_shape=(150, 150, 3)\n",
        "                 )\n",
        "\n",
        "vgg_base.summary()"
      ],
      "execution_count": 9,
      "outputs": [
        {
          "output_type": "stream",
          "text": [
            "Downloading data from https://storage.googleapis.com/tensorflow/keras-applications/vgg16/vgg16_weights_tf_dim_ordering_tf_kernels_notop.h5\n",
            "58892288/58889256 [==============================] - 0s 0us/step\n",
            "Model: \"vgg16\"\n",
            "_________________________________________________________________\n",
            "Layer (type)                 Output Shape              Param #   \n",
            "=================================================================\n",
            "input_1 (InputLayer)         [(None, 150, 150, 3)]     0         \n",
            "_________________________________________________________________\n",
            "block1_conv1 (Conv2D)        (None, 150, 150, 64)      1792      \n",
            "_________________________________________________________________\n",
            "block1_conv2 (Conv2D)        (None, 150, 150, 64)      36928     \n",
            "_________________________________________________________________\n",
            "block1_pool (MaxPooling2D)   (None, 75, 75, 64)        0         \n",
            "_________________________________________________________________\n",
            "block2_conv1 (Conv2D)        (None, 75, 75, 128)       73856     \n",
            "_________________________________________________________________\n",
            "block2_conv2 (Conv2D)        (None, 75, 75, 128)       147584    \n",
            "_________________________________________________________________\n",
            "block2_pool (MaxPooling2D)   (None, 37, 37, 128)       0         \n",
            "_________________________________________________________________\n",
            "block3_conv1 (Conv2D)        (None, 37, 37, 256)       295168    \n",
            "_________________________________________________________________\n",
            "block3_conv2 (Conv2D)        (None, 37, 37, 256)       590080    \n",
            "_________________________________________________________________\n",
            "block3_conv3 (Conv2D)        (None, 37, 37, 256)       590080    \n",
            "_________________________________________________________________\n",
            "block3_pool (MaxPooling2D)   (None, 18, 18, 256)       0         \n",
            "_________________________________________________________________\n",
            "block4_conv1 (Conv2D)        (None, 18, 18, 512)       1180160   \n",
            "_________________________________________________________________\n",
            "block4_conv2 (Conv2D)        (None, 18, 18, 512)       2359808   \n",
            "_________________________________________________________________\n",
            "block4_conv3 (Conv2D)        (None, 18, 18, 512)       2359808   \n",
            "_________________________________________________________________\n",
            "block4_pool (MaxPooling2D)   (None, 9, 9, 512)         0         \n",
            "_________________________________________________________________\n",
            "block5_conv1 (Conv2D)        (None, 9, 9, 512)         2359808   \n",
            "_________________________________________________________________\n",
            "block5_conv2 (Conv2D)        (None, 9, 9, 512)         2359808   \n",
            "_________________________________________________________________\n",
            "block5_conv3 (Conv2D)        (None, 9, 9, 512)         2359808   \n",
            "_________________________________________________________________\n",
            "block5_pool (MaxPooling2D)   (None, 4, 4, 512)         0         \n",
            "=================================================================\n",
            "Total params: 14,714,688\n",
            "Trainable params: 14,714,688\n",
            "Non-trainable params: 0\n",
            "_________________________________________________________________\n"
          ],
          "name": "stdout"
        }
      ]
    },
    {
      "cell_type": "code",
      "metadata": {
        "id": "owLtZj9jugg3",
        "colab_type": "code",
        "colab": {
          "base_uri": "https://localhost:8080/",
          "height": 826
        },
        "outputId": "09a3b92a-6dff-4e76-a60b-d103caee615a"
      },
      "source": [
        "for layer in vgg_base.layers:\n",
        "    layer.trainable = False\n",
        "  \n",
        "vgg_base.summary()"
      ],
      "execution_count": 10,
      "outputs": [
        {
          "output_type": "stream",
          "text": [
            "Model: \"vgg16\"\n",
            "_________________________________________________________________\n",
            "Layer (type)                 Output Shape              Param #   \n",
            "=================================================================\n",
            "input_1 (InputLayer)         [(None, 150, 150, 3)]     0         \n",
            "_________________________________________________________________\n",
            "block1_conv1 (Conv2D)        (None, 150, 150, 64)      1792      \n",
            "_________________________________________________________________\n",
            "block1_conv2 (Conv2D)        (None, 150, 150, 64)      36928     \n",
            "_________________________________________________________________\n",
            "block1_pool (MaxPooling2D)   (None, 75, 75, 64)        0         \n",
            "_________________________________________________________________\n",
            "block2_conv1 (Conv2D)        (None, 75, 75, 128)       73856     \n",
            "_________________________________________________________________\n",
            "block2_conv2 (Conv2D)        (None, 75, 75, 128)       147584    \n",
            "_________________________________________________________________\n",
            "block2_pool (MaxPooling2D)   (None, 37, 37, 128)       0         \n",
            "_________________________________________________________________\n",
            "block3_conv1 (Conv2D)        (None, 37, 37, 256)       295168    \n",
            "_________________________________________________________________\n",
            "block3_conv2 (Conv2D)        (None, 37, 37, 256)       590080    \n",
            "_________________________________________________________________\n",
            "block3_conv3 (Conv2D)        (None, 37, 37, 256)       590080    \n",
            "_________________________________________________________________\n",
            "block3_pool (MaxPooling2D)   (None, 18, 18, 256)       0         \n",
            "_________________________________________________________________\n",
            "block4_conv1 (Conv2D)        (None, 18, 18, 512)       1180160   \n",
            "_________________________________________________________________\n",
            "block4_conv2 (Conv2D)        (None, 18, 18, 512)       2359808   \n",
            "_________________________________________________________________\n",
            "block4_conv3 (Conv2D)        (None, 18, 18, 512)       2359808   \n",
            "_________________________________________________________________\n",
            "block4_pool (MaxPooling2D)   (None, 9, 9, 512)         0         \n",
            "_________________________________________________________________\n",
            "block5_conv1 (Conv2D)        (None, 9, 9, 512)         2359808   \n",
            "_________________________________________________________________\n",
            "block5_conv2 (Conv2D)        (None, 9, 9, 512)         2359808   \n",
            "_________________________________________________________________\n",
            "block5_conv3 (Conv2D)        (None, 9, 9, 512)         2359808   \n",
            "_________________________________________________________________\n",
            "block5_pool (MaxPooling2D)   (None, 4, 4, 512)         0         \n",
            "=================================================================\n",
            "Total params: 14,714,688\n",
            "Trainable params: 0\n",
            "Non-trainable params: 14,714,688\n",
            "_________________________________________________________________\n"
          ],
          "name": "stdout"
        }
      ]
    },
    {
      "cell_type": "code",
      "metadata": {
        "id": "nY81jkkQugc5",
        "colab_type": "code",
        "colab": {}
      },
      "source": [
        "model = Sequential([vgg_base,\n",
        "                    Flatten(),\n",
        "                    Dropout(0.3),\n",
        "                    Dense(512, activation='relu'),\n",
        "                    Dropout(0.2),\n",
        "                    Dense(1024, activation='relu'),\n",
        "                    Dropout(0.1),\n",
        "                    Dense(1, activation='sigmoid')\n",
        "                    ])"
      ],
      "execution_count": 11,
      "outputs": []
    },
    {
      "cell_type": "code",
      "metadata": {
        "id": "RMPhIc6nWnQZ",
        "colab_type": "code",
        "colab": {}
      },
      "source": [
        "model.compile(optimizer='adam', loss='binary_crossentropy', metrics=['accuracy'])"
      ],
      "execution_count": 12,
      "outputs": []
    },
    {
      "cell_type": "code",
      "metadata": {
        "id": "Jr_jL1ursiEl",
        "colab_type": "code",
        "colab": {
          "base_uri": "https://localhost:8080/",
          "height": 52
        },
        "outputId": "623da34a-494e-4c3a-f047-cc4ed7940b83"
      },
      "source": [
        "from tensorflow.keras.preprocessing.image import ImageDataGenerator\n",
        "\n",
        "train_datagen = ImageDataGenerator(rescale = 1./255,\n",
        "                             horizontal_flip=True,\n",
        "                             width_shift_range=0.2,\n",
        "                             height_shift_range=0.2,\n",
        "                            #  rotation_range=40,\n",
        "                            #  shear_range=0.2,\n",
        "                            #  fill_mode='nearest'\n",
        "                                  )\n",
        "\n",
        "validation_datagen = ImageDataGenerator(rescale=1./255)\n",
        "\n",
        "train_generator = train_datagen.flow_from_directory('/tmp/train_set/',\n",
        "                                              batch_size = 32,\n",
        "                                              target_size = (150, 150),\n",
        "                                              class_mode = 'binary'\n",
        "                                              )\n",
        "\n",
        "validation_generator = validation_datagen.flow_from_directory('/tmp/validation_set/',\n",
        "                                                    batch_size = 32,\n",
        "                                                    target_size = (150, 150),\n",
        "                                                    class_mode = 'binary'\n",
        "                                                    )"
      ],
      "execution_count": 13,
      "outputs": [
        {
          "output_type": "stream",
          "text": [
            "Found 18697 images belonging to 2 classes.\n",
            "Found 6303 images belonging to 2 classes.\n"
          ],
          "name": "stdout"
        }
      ]
    },
    {
      "cell_type": "code",
      "metadata": {
        "id": "r4W8Rlcg9wuk",
        "colab_type": "code",
        "colab": {}
      },
      "source": [
        ""
      ],
      "execution_count": null,
      "outputs": []
    },
    {
      "cell_type": "code",
      "metadata": {
        "id": "kmYdTg8i3dJN",
        "colab_type": "code",
        "colab": {
          "base_uri": "https://localhost:8080/",
          "height": 615
        },
        "outputId": "6e1dd6a7-5a62-462e-8704-b7bd592a78d0"
      },
      "source": [
        "model.fit_generator(train_generator,\n",
        "                    epochs=15,\n",
        "                    validation_data=validation_generator\n",
        "                   )"
      ],
      "execution_count": 14,
      "outputs": [
        {
          "output_type": "stream",
          "text": [
            "WARNING:tensorflow:From <ipython-input-14-9dd3e4375662>:3: Model.fit_generator (from tensorflow.python.keras.engine.training) is deprecated and will be removed in a future version.\n",
            "Instructions for updating:\n",
            "Please use Model.fit, which supports generators.\n",
            "Epoch 1/15\n",
            "585/585 [==============================] - 172s 294ms/step - loss: 0.3748 - accuracy: 0.8290 - val_loss: 0.2542 - val_accuracy: 0.8908\n",
            "Epoch 2/15\n",
            "585/585 [==============================] - 167s 285ms/step - loss: 0.3079 - accuracy: 0.8625 - val_loss: 0.2447 - val_accuracy: 0.8910\n",
            "Epoch 3/15\n",
            "585/585 [==============================] - 168s 287ms/step - loss: 0.2986 - accuracy: 0.8700 - val_loss: 0.2221 - val_accuracy: 0.9050\n",
            "Epoch 4/15\n",
            "585/585 [==============================] - 164s 280ms/step - loss: 0.2901 - accuracy: 0.8717 - val_loss: 0.2314 - val_accuracy: 0.9075\n",
            "Epoch 5/15\n",
            "585/585 [==============================] - 162s 276ms/step - loss: 0.2832 - accuracy: 0.8769 - val_loss: 0.2228 - val_accuracy: 0.8978\n",
            "Epoch 6/15\n",
            "585/585 [==============================] - 162s 276ms/step - loss: 0.2725 - accuracy: 0.8818 - val_loss: 0.2081 - val_accuracy: 0.9100\n",
            "Epoch 7/15\n",
            "585/585 [==============================] - 162s 276ms/step - loss: 0.2690 - accuracy: 0.8831 - val_loss: 0.2107 - val_accuracy: 0.9105\n",
            "Epoch 8/15\n",
            "585/585 [==============================] - 159s 271ms/step - loss: 0.2686 - accuracy: 0.8817 - val_loss: 0.2290 - val_accuracy: 0.9004\n",
            "Epoch 9/15\n",
            "585/585 [==============================] - 160s 274ms/step - loss: 0.2641 - accuracy: 0.8853 - val_loss: 0.2059 - val_accuracy: 0.9112\n",
            "Epoch 10/15\n",
            "585/585 [==============================] - 158s 270ms/step - loss: 0.2601 - accuracy: 0.8874 - val_loss: 0.2046 - val_accuracy: 0.9131\n",
            "Epoch 11/15\n",
            "585/585 [==============================] - 157s 268ms/step - loss: 0.2631 - accuracy: 0.8855 - val_loss: 0.2037 - val_accuracy: 0.9139\n",
            "Epoch 12/15\n",
            "585/585 [==============================] - 156s 267ms/step - loss: 0.2561 - accuracy: 0.8891 - val_loss: 0.2039 - val_accuracy: 0.9116\n",
            "Epoch 13/15\n",
            "585/585 [==============================] - 156s 267ms/step - loss: 0.2503 - accuracy: 0.8894 - val_loss: 0.1995 - val_accuracy: 0.9139\n",
            "Epoch 14/15\n",
            "585/585 [==============================] - 157s 268ms/step - loss: 0.2499 - accuracy: 0.8943 - val_loss: 0.2011 - val_accuracy: 0.9151\n",
            "Epoch 15/15\n",
            "585/585 [==============================] - 157s 268ms/step - loss: 0.2513 - accuracy: 0.8933 - val_loss: 0.2007 - val_accuracy: 0.9164\n"
          ],
          "name": "stdout"
        },
        {
          "output_type": "execute_result",
          "data": {
            "text/plain": [
              "<tensorflow.python.keras.callbacks.History at 0x7fbc6c374278>"
            ]
          },
          "metadata": {
            "tags": []
          },
          "execution_count": 14
        }
      ]
    },
    {
      "cell_type": "code",
      "metadata": {
        "id": "fOME4Wk73dGO",
        "colab_type": "code",
        "colab": {}
      },
      "source": [
        "model.save('/content/drive/My Drive/datasets/cats-vs-dogs/VGG_model.h5')"
      ],
      "execution_count": 15,
      "outputs": []
    }
  ]
}